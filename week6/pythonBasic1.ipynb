{
  "nbformat": 4,
  "nbformat_minor": 0,
  "metadata": {
    "colab": {
      "name": "Untitled0.ipynb",
      "provenance": []
    },
    "kernelspec": {
      "name": "python3",
      "display_name": "Python 3"
    }
  },
  "cells": [
    {
      "cell_type": "code",
      "metadata": {
        "id": "8IUympOO5iAH",
        "colab_type": "code",
        "colab": {
          "base_uri": "https://localhost:8080/",
          "height": 34
        },
        "outputId": "39f204cf-ab3a-4105-d289-090c4434e821"
      },
      "source": [
        "print(\"hello colab\")"
      ],
      "execution_count": 1,
      "outputs": [
        {
          "output_type": "stream",
          "text": [
            "hello colab\n"
          ],
          "name": "stdout"
        }
      ]
    },
    {
      "cell_type": "code",
      "metadata": {
        "id": "moQAyqSd6l10",
        "colab_type": "code",
        "colab": {
          "base_uri": "https://localhost:8080/",
          "height": 34
        },
        "outputId": "1a8cddce-0823-4fa7-8b0d-55e98ba6c2b6"
      },
      "source": [
        "import torch #파이토치를 사용하겠다는 선언\n",
        "\n",
        "a = torch.Tensor(5) #Tensor 파이토치에서 어레이나 데이터를 다룰때 그 하나하나 data를 tensor라고 부름\n",
        "\n",
        "print(a)\n",
        "#여기까지 tensor 선언, 프린트"
      ],
      "execution_count": 4,
      "outputs": [
        {
          "output_type": "stream",
          "text": [
            "tensor([1., 1., 1., 1., 1.])\n"
          ],
          "name": "stdout"
        }
      ]
    },
    {
      "cell_type": "code",
      "metadata": {
        "id": "GGF5pvSW7zl_",
        "colab_type": "code",
        "colab": {
          "base_uri": "https://localhost:8080/",
          "height": 51
        },
        "outputId": "8f95bc84-9298-42a0-c209-dcb2abd8aaca"
      },
      "source": [
        "a = torch.ones(5)#1로 초기화 된 5칸 배열생성\n",
        "print(a)\n",
        "\n",
        "b = a.numpy() #tensor-> numpy\n",
        "print(b)"
      ],
      "execution_count": 5,
      "outputs": [
        {
          "output_type": "stream",
          "text": [
            "tensor([1., 1., 1., 1., 1.])\n",
            "[1. 1. 1. 1. 1.]\n"
          ],
          "name": "stdout"
        }
      ]
    },
    {
      "cell_type": "code",
      "metadata": {
        "id": "8fgKCbmU8Jv_",
        "colab_type": "code",
        "colab": {
          "base_uri": "https://localhost:8080/",
          "height": 34
        },
        "outputId": "583995d6-78e7-4760-d3d0-da66f52b4678"
      },
      "source": [
        "c = torch.from_numpy(b) #numpy->tensor\n",
        "print(c)"
      ],
      "execution_count": 7,
      "outputs": [
        {
          "output_type": "stream",
          "text": [
            "tensor([1., 1., 1., 1., 1.])\n"
          ],
          "name": "stdout"
        }
      ]
    }
  ]
}